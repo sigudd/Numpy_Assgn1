{
 "cells": [
  {
   "cell_type": "code",
   "execution_count": 1,
   "metadata": {},
   "outputs": [
    {
     "name": "stdout",
     "output_type": "stream",
     "text": [
      "Vander Matrix Function with Increasing True: \n",
      "\n",
      "[[  1   1   1   1]\n",
      " [  1   2   4   8]\n",
      " [  1   3   9  27]\n",
      " [  1   5  25 125]]\n",
      "\n",
      " Vander Matrix Function with Increasing False: \n",
      "\n",
      "[[  1   1   1   1]\n",
      " [  8   4   2   1]\n",
      " [ 27   9   3   1]\n",
      " [125  25   5   1]]\n"
     ]
    }
   ],
   "source": [
    "import numpy as np\n",
    "def VanderMatrix(vectorInput,increasing=True,N=0):\n",
    "    if N==0:\n",
    "        N = len(vectorInput)\n",
    "    if increasing:\n",
    "        return np.column_stack([x**(i) for i in range(N)])\n",
    "    else:\n",
    "         return np.column_stack([x**(N-1-i) for i in range(N)])\n",
    "\n",
    "x = np.array([1, 2, 3, 5])\n",
    "\n",
    "print(\"Vander Matrix Function with Increasing True: \\n\")\n",
    "print(VanderMatrix(x))\n",
    "print(\"\\n Vander Matrix Function with Increasing False: \\n\")\n",
    "print(VanderMatrix(x,False))"
   ]
  },
  {
   "cell_type": "code",
   "execution_count": null,
   "metadata": {},
   "outputs": [],
   "source": []
  }
 ],
 "metadata": {
  "kernelspec": {
   "display_name": "Python 3",
   "language": "python",
   "name": "python3"
  },
  "language_info": {
   "codemirror_mode": {
    "name": "ipython",
    "version": 3
   },
   "file_extension": ".py",
   "mimetype": "text/x-python",
   "name": "python",
   "nbconvert_exporter": "python",
   "pygments_lexer": "ipython3",
   "version": "3.7.0"
  }
 },
 "nbformat": 4,
 "nbformat_minor": 2
}
